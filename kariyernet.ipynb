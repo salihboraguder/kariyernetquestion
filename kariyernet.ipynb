{
 "cells": [
  {
   "cell_type": "code",
   "execution_count": 143,
   "id": "0891d15c",
   "metadata": {},
   "outputs": [],
   "source": [
    "import numpy as np\n",
    "import pandas as pd\n",
    "import matplotlib.pyplot as plt\n",
    "import seaborn as sns"
   ]
  },
  {
   "cell_type": "code",
   "execution_count": 144,
   "id": "fac66ac8",
   "metadata": {},
   "outputs": [
    {
     "data": {
      "text/html": [
       "<div>\n",
       "<style scoped>\n",
       "    .dataframe tbody tr th:only-of-type {\n",
       "        vertical-align: middle;\n",
       "    }\n",
       "\n",
       "    .dataframe tbody tr th {\n",
       "        vertical-align: top;\n",
       "    }\n",
       "\n",
       "    .dataframe thead th {\n",
       "        text-align: right;\n",
       "    }\n",
       "</style>\n",
       "<table border=\"1\" class=\"dataframe\">\n",
       "  <thead>\n",
       "    <tr style=\"text-align: right;\">\n",
       "      <th></th>\n",
       "      <th>İlan Adet</th>\n",
       "      <th>Login Adet</th>\n",
       "    </tr>\n",
       "  </thead>\n",
       "  <tbody>\n",
       "    <tr>\n",
       "      <th>İlan Adet</th>\n",
       "      <td>1.000000</td>\n",
       "      <td>0.075577</td>\n",
       "    </tr>\n",
       "    <tr>\n",
       "      <th>Login Adet</th>\n",
       "      <td>0.075577</td>\n",
       "      <td>1.000000</td>\n",
       "    </tr>\n",
       "  </tbody>\n",
       "</table>\n",
       "</div>"
      ],
      "text/plain": [
       "            İlan Adet  Login Adet\n",
       "İlan Adet    1.000000    0.075577\n",
       "Login Adet   0.075577    1.000000"
      ]
     },
     "execution_count": 144,
     "metadata": {},
     "output_type": "execute_result"
    }
   ],
   "source": [
    "#preprocessing the data\n",
    "df = pd.read_excel(\"TechKariyer.xlsx\",sheet_name=\"Data\")\n",
    "data = df.copy()\n",
    "data = data[[\"Login Dönemleri\",\"Unnamed: 1\",\"Unnamed: 2\",\"İlan Dönemleri\",\"Unnamed: 5\",\"Unnamed: 6\",\"Sözleşme Yenileme Dönemi\",\"Unnamed: 9\"]]\n",
    "login = data[[\"Login Dönemleri\",\"Unnamed: 1\",\"Unnamed: 2\"]].copy()\n",
    "ilan = data[[\"İlan Dönemleri\",\"Unnamed: 5\",\"Unnamed: 6\"]].copy()\n",
    "sozlesme= data[[\"Sözleşme Yenileme Dönemi\",\"Unnamed: 9\"]].copy()\n",
    "login.columns = login.iloc[0]\n",
    "ilan.columns = ilan.iloc[0]\n",
    "sozlesme.columns = sozlesme.iloc[0]\n",
    "login.drop(0,inplace=True)\n",
    "ilan.drop(0,inplace=True)\n",
    "sozlesme.drop(0,inplace=True)\n",
    "cols = login.columns\n",
    "login[cols] = login[cols].apply(pd.to_numeric,errors='coerce',axis=1)\n",
    "cols = ilan.columns\n",
    "ilan[cols] = ilan[cols].apply(pd.to_numeric,errors='coerce',axis=1)\n",
    "cols = sozlesme.columns\n",
    "sozlesme[cols] = sozlesme[cols].apply(pd.to_numeric,errors='coerce',axis=1)\n",
    "ilan.dropna(inplace=True)\n",
    "login.dropna(inplace=True)\n",
    "sozlesme.dropna(inplace=True)\n",
    "login_amounts = login.groupby(\"Firma Kodu\").mean()[\"Login Adet\"]\n",
    "login_amounts = login_amounts.reset_index(level=0)\n",
    "ilan_amounts = ilan.groupby(\"Firma Kodu\").mean()[\"İlan Adet\"]\n",
    "ilan_amounts = ilan_amounts.reset_index(level=0)\n",
    "q1_df = ilan_amounts.merge(login_amounts,on=\"Firma Kodu\",how=\"inner\")\n",
    "q1_df[[\"İlan Adet\",\"Login Adet\"]].corr()"
   ]
  },
  {
   "cell_type": "code",
   "execution_count": null,
   "id": "fb9ae493",
   "metadata": {},
   "outputs": [],
   "source": []
  },
  {
   "cell_type": "code",
   "execution_count": null,
   "id": "45e5f57d",
   "metadata": {},
   "outputs": [],
   "source": []
  },
  {
   "cell_type": "code",
   "execution_count": null,
   "id": "10fc9a46",
   "metadata": {},
   "outputs": [],
   "source": []
  },
  {
   "cell_type": "code",
   "execution_count": null,
   "id": "a7e430c7",
   "metadata": {},
   "outputs": [],
   "source": []
  },
  {
   "cell_type": "code",
   "execution_count": null,
   "id": "41c4f7be",
   "metadata": {},
   "outputs": [],
   "source": []
  },
  {
   "cell_type": "code",
   "execution_count": null,
   "id": "b298a0c3",
   "metadata": {},
   "outputs": [],
   "source": []
  },
  {
   "cell_type": "code",
   "execution_count": null,
   "id": "c6fabaf6",
   "metadata": {},
   "outputs": [],
   "source": []
  },
  {
   "cell_type": "code",
   "execution_count": null,
   "id": "da7a62dd",
   "metadata": {},
   "outputs": [],
   "source": []
  }
 ],
 "metadata": {
  "kernelspec": {
   "display_name": "Python 3",
   "language": "python",
   "name": "python3"
  },
  "language_info": {
   "codemirror_mode": {
    "name": "ipython",
    "version": 3
   },
   "file_extension": ".py",
   "mimetype": "text/x-python",
   "name": "python",
   "nbconvert_exporter": "python",
   "pygments_lexer": "ipython3",
   "version": "3.8.8"
  }
 },
 "nbformat": 4,
 "nbformat_minor": 5
}
